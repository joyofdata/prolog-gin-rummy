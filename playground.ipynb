{
 "cells": [
  {
   "cell_type": "code",
   "execution_count": 1,
   "id": "6067829e-8c88-4250-b95b-b13bac9adad3",
   "metadata": {},
   "outputs": [
    {
     "name": "stdout",
     "output_type": "stream",
     "text": [
      "SWI-Prolog version 9.0.4 for x86_64-linux\n"
     ]
    },
    {
     "name": "stderr",
     "output_type": "stream",
     "text": [
      "No LSB modules are available.\n"
     ]
    },
    {
     "name": "stdout",
     "output_type": "stream",
     "text": [
      "Description:\tLinux Mint 21.2\n",
      "5.15.0-88-generic\n",
      "Version: 0.2.11\n"
     ]
    }
   ],
   "source": [
    "%%bash\n",
    "swipl --version\n",
    "lsb_release -a | grep Desc\n",
    "uname -r\n",
    "pip show pyswip | grep Version"
   ]
  },
  {
   "cell_type": "code",
   "execution_count": 5,
   "id": "60f683e0-5287-45a6-b06b-226d63ab63ff",
   "metadata": {},
   "outputs": [
    {
     "name": "stderr",
     "output_type": "stream",
     "text": [
      "ERROR: Syntax error: Operator expected\n",
      "ERROR: assertz((\n",
      "father(michael,john\n",
      "ERROR: ** here **\n",
      "ERROR: ). \n"
     ]
    },
    {
     "ename": "PrologError",
     "evalue": "Caused by: 'assertz((\nfather(michael,john).\nfather(michael,gina).\n)).'. Returned: 'error(syntax_error(operator_expected), string(b'assertz((\\nfather(michael,john). ', 29))'.",
     "output_type": "error",
     "traceback": [
      "\u001b[0;31m---------------------------------------------------------------------------\u001b[0m",
      "\u001b[0;31mPrologError\u001b[0m                               Traceback (most recent call last)",
      "Cell \u001b[0;32mIn[5], line 3\u001b[0m\n\u001b[1;32m      1\u001b[0m \u001b[38;5;28;01mfrom\u001b[39;00m \u001b[38;5;21;01mpyswip\u001b[39;00m \u001b[38;5;28;01mimport\u001b[39;00m Prolog\n\u001b[1;32m      2\u001b[0m prolog \u001b[38;5;241m=\u001b[39m Prolog()\n\u001b[0;32m----> 3\u001b[0m \u001b[43mprolog\u001b[49m\u001b[38;5;241;43m.\u001b[39;49m\u001b[43massertz\u001b[49m\u001b[43m(\u001b[49m\u001b[38;5;124;43m\"\"\"\u001b[39;49m\n\u001b[1;32m      4\u001b[0m \u001b[38;5;124;43mfather(michael,john).\u001b[39;49m\n\u001b[1;32m      5\u001b[0m \u001b[38;5;124;43mfather(michael,gina).\u001b[39;49m\n\u001b[1;32m      6\u001b[0m \u001b[38;5;124;43m\"\"\"\u001b[39;49m\u001b[43m)\u001b[49m\n\u001b[1;32m      7\u001b[0m \u001b[38;5;28mlist\u001b[39m(prolog\u001b[38;5;241m.\u001b[39mquery(\u001b[38;5;124m\"\u001b[39m\u001b[38;5;124mfather(michael,X)\u001b[39m\u001b[38;5;124m\"\u001b[39m)) \u001b[38;5;241m==\u001b[39m [{\u001b[38;5;124m'\u001b[39m\u001b[38;5;124mX\u001b[39m\u001b[38;5;124m'\u001b[39m: \u001b[38;5;124m'\u001b[39m\u001b[38;5;124mjohn\u001b[39m\u001b[38;5;124m'\u001b[39m}, {\u001b[38;5;124m'\u001b[39m\u001b[38;5;124mX\u001b[39m\u001b[38;5;124m'\u001b[39m: \u001b[38;5;124m'\u001b[39m\u001b[38;5;124mgina\u001b[39m\u001b[38;5;124m'\u001b[39m}]\n\u001b[1;32m      8\u001b[0m \u001b[38;5;28;01mfor\u001b[39;00m soln \u001b[38;5;129;01min\u001b[39;00m prolog\u001b[38;5;241m.\u001b[39mquery(\u001b[38;5;124m\"\u001b[39m\u001b[38;5;124mfather(X,Y)\u001b[39m\u001b[38;5;124m\"\u001b[39m):\n",
      "File \u001b[0;32m~/.local/lib/python3.10/site-packages/pyswip/prolog.py:152\u001b[0m, in \u001b[0;36mProlog.assertz\u001b[0;34m(cls, assertion, catcherrors)\u001b[0m\n\u001b[1;32m    150\u001b[0m \u001b[38;5;129m@classmethod\u001b[39m\n\u001b[1;32m    151\u001b[0m \u001b[38;5;28;01mdef\u001b[39;00m \u001b[38;5;21massertz\u001b[39m(\u001b[38;5;28mcls\u001b[39m, assertion, catcherrors\u001b[38;5;241m=\u001b[39m\u001b[38;5;28;01mFalse\u001b[39;00m):\n\u001b[0;32m--> 152\u001b[0m     \u001b[38;5;28;43mnext\u001b[39;49m\u001b[43m(\u001b[49m\u001b[38;5;28;43mcls\u001b[39;49m\u001b[38;5;241;43m.\u001b[39;49m\u001b[43mquery\u001b[49m\u001b[43m(\u001b[49m\u001b[43massertion\u001b[49m\u001b[38;5;241;43m.\u001b[39;49m\u001b[43mjoin\u001b[49m\u001b[43m(\u001b[49m\u001b[43m[\u001b[49m\u001b[38;5;124;43m\"\u001b[39;49m\u001b[38;5;124;43massertz((\u001b[39;49m\u001b[38;5;124;43m\"\u001b[39;49m\u001b[43m,\u001b[49m\u001b[43m \u001b[49m\u001b[38;5;124;43m\"\u001b[39;49m\u001b[38;5;124;43m)).\u001b[39;49m\u001b[38;5;124;43m\"\u001b[39;49m\u001b[43m]\u001b[49m\u001b[43m)\u001b[49m\u001b[43m,\u001b[49m\u001b[43m \u001b[49m\u001b[43mcatcherrors\u001b[49m\u001b[38;5;241;43m=\u001b[39;49m\u001b[43mcatcherrors\u001b[49m\u001b[43m)\u001b[49m\u001b[43m)\u001b[49m\n",
      "File \u001b[0;32m~/.local/lib/python3.10/site-packages/pyswip/prolog.py:128\u001b[0m, in \u001b[0;36mProlog._QueryWrapper.__call__\u001b[0;34m(self, query, maxresult, catcherrors, normalize)\u001b[0m\n\u001b[1;32m    125\u001b[0m     \u001b[38;5;28;01mif\u001b[39;00m PL_exception(swipl_qid):\n\u001b[1;32m    126\u001b[0m         term \u001b[38;5;241m=\u001b[39m getTerm(PL_exception(swipl_qid))\n\u001b[0;32m--> 128\u001b[0m         \u001b[38;5;28;01mraise\u001b[39;00m PrologError(\u001b[38;5;124m\"\u001b[39m\u001b[38;5;124m\"\u001b[39m\u001b[38;5;241m.\u001b[39mjoin([\u001b[38;5;124m\"\u001b[39m\u001b[38;5;124mCaused by: \u001b[39m\u001b[38;5;124m'\u001b[39m\u001b[38;5;124m\"\u001b[39m, query, \u001b[38;5;124m\"\u001b[39m\u001b[38;5;124m'\u001b[39m\u001b[38;5;124m. \u001b[39m\u001b[38;5;124m\"\u001b[39m,\n\u001b[1;32m    129\u001b[0m                                    \u001b[38;5;124m\"\u001b[39m\u001b[38;5;124mReturned: \u001b[39m\u001b[38;5;124m'\u001b[39m\u001b[38;5;124m\"\u001b[39m, \u001b[38;5;28mstr\u001b[39m(term), \u001b[38;5;124m\"\u001b[39m\u001b[38;5;124m'\u001b[39m\u001b[38;5;124m.\u001b[39m\u001b[38;5;124m\"\u001b[39m]))\n\u001b[1;32m    131\u001b[0m \u001b[38;5;28;01mfinally\u001b[39;00m: \u001b[38;5;66;03m# This ensures that, whatever happens, we close the query\u001b[39;00m\n\u001b[1;32m    132\u001b[0m     PL_cut_query(swipl_qid)\n",
      "\u001b[0;31mPrologError\u001b[0m: Caused by: 'assertz((\nfather(michael,john).\nfather(michael,gina).\n)).'. Returned: 'error(syntax_error(operator_expected), string(b'assertz((\\nfather(michael,john). ', 29))'."
     ]
    }
   ],
   "source": [
    "from pyswip import Prolog\n",
    "prolog = Prolog()\n",
    "prolog.assertz(\"\"\"\n",
    "father(michael,john).\n",
    "father(michael,gina).\n",
    "\"\"\")\n",
    "list(prolog.query(\"father(michael,X)\")) == [{'X': 'john'}, {'X': 'gina'}]\n",
    "for soln in prolog.query(\"father(X,Y)\"):\n",
    "    print(soln[\"X\"], \"is the father of\", soln[\"Y\"])"
   ]
  },
  {
   "cell_type": "code",
   "execution_count": null,
   "id": "eeb932cf-23b2-4bf2-93c1-c6b08b885268",
   "metadata": {},
   "outputs": [],
   "source": [
    "prolog."
   ]
  }
 ],
 "metadata": {
  "kernelspec": {
   "display_name": "Python 3 (ipykernel)",
   "language": "python",
   "name": "python3"
  },
  "language_info": {
   "codemirror_mode": {
    "name": "ipython",
    "version": 3
   },
   "file_extension": ".py",
   "mimetype": "text/x-python",
   "name": "python",
   "nbconvert_exporter": "python",
   "pygments_lexer": "ipython3",
   "version": "3.10.12"
  }
 },
 "nbformat": 4,
 "nbformat_minor": 5
}
